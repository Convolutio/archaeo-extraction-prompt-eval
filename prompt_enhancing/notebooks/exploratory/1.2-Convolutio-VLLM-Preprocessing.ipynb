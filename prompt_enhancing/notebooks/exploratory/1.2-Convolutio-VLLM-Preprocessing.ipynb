{
 "cells": [
  {
   "cell_type": "code",
   "execution_count": null,
   "id": "0",
   "metadata": {},
   "outputs": [],
   "source": [
    "%load_ext autoreload\n",
    "%autoreload 2"
   ]
  },
  {
   "cell_type": "code",
   "execution_count": null,
   "id": "1",
   "metadata": {},
   "outputs": [],
   "source": [
    "import logging\n",
    "\n",
    "from archaeo_super_prompt.dataset.load import MagohDataset\n",
    "from archaeo_super_prompt.modeling.pdf_to_text import VLLM_Preprocessing"
   ]
  },
  {
   "cell_type": "markdown",
   "id": "2",
   "metadata": {},
   "source": [
    "# 🦆📃 PDF complete ingestion with Docling preprocessing\n",
    "\n",
    "We try the young framework Docling and its usage of VLLM on the HuggingFace repositories to achieve thoses tasks:\n",
    "\n",
    "- document OCR with Italian language analysis (VLLM)\n",
    "- document chunking with these features:\n",
    "    - layout-aware\n",
    "    - smart tokenization\n",
    "\n",
    "All of these things are possible with incorporating several open ML models into the Docling pipeline"
   ]
  },
  {
   "cell_type": "code",
   "execution_count": null,
   "id": "3",
   "metadata": {},
   "outputs": [],
   "source": [
    "MAX_SAMPLES_FETCHED = 300\n",
    "SEED = 0.5\n",
    "\n",
    "dataset = MagohDataset(MAX_SAMPLES_FETCHED, SEED, True)\n",
    "_selected_ids = [33872, 35983, 31298]\n",
    "selected_ids = set(_selected_ids)\n",
    "inputs = dataset.get_files_for_batch(selected_ids)"
   ]
  },
  {
   "cell_type": "code",
   "execution_count": null,
   "id": "4",
   "metadata": {},
   "outputs": [],
   "source": [
    "inputs[\"filepath\"].tolist()"
   ]
  },
  {
   "cell_type": "code",
   "execution_count": null,
   "id": "5",
   "metadata": {},
   "outputs": [],
   "source": [
    "def main():\n",
    "    logging.basicConfig(level=logging.INFO)\n",
    "    TIMEOUT_PER_PAGE = 60 * 3\n",
    "    # Example using the Granite Vision model with Ollama:\n",
    "    doc_converter = VLLM_Preprocessing(\n",
    "        model=\"granite3.2-vision:latest\",\n",
    "        prompt=\"OCR this part of Italian document for markdown-based processing.\",\n",
    "        embedding_model_hf_id=\"nomic-ai/nomic-embed-text-v1.5\",\n",
    "        max_chunk_size=512,\n",
    "        allowed_timeout=TIMEOUT_PER_PAGE,\n",
    "    )\n",
    "    results = doc_converter.transform(inputs)\n",
    "    return results"
   ]
  },
  {
   "cell_type": "code",
   "execution_count": null,
   "id": "6",
   "metadata": {},
   "outputs": [],
   "source": [
    "result = main()"
   ]
  },
  {
   "cell_type": "markdown",
   "id": "7",
   "metadata": {},
   "source": [
    "## Inspect the results\n",
    "\n",
    "We inspect the table of contextualized chunks with their kept metadata."
   ]
  },
  {
   "cell_type": "code",
   "execution_count": null,
   "id": "8",
   "metadata": {},
   "outputs": [],
   "source": [
    "result"
   ]
  },
  {
   "cell_type": "markdown",
   "id": "9",
   "metadata": {},
   "source": [
    "## Notes\n",
    "\n",
    "- the granite-vision model miss a lot of content for some samples (e.g. the `31031`)\n",
    "- it is better to set in the chunker a maximum chunk size, otherwise, according to the tokenizer, it will merge all the chunks\n",
    "- the granite-vision model seems to read all the pdf as table elements and print for each extracted chunk the coordinate of the text box. This might not be ideal for a processing by an embedding model or a LLM, unless they ignore this information. "
   ]
  }
 ],
 "metadata": {
  "kernelspec": {
   "display_name": "Poetry",
   "language": "python",
   "name": "poetry-kernel"
  },
  "language_info": {
   "codemirror_mode": {
    "name": "ipython",
    "version": 3
   },
   "file_extension": ".py",
   "mimetype": "text/x-python",
   "name": "python",
   "nbconvert_exporter": "python",
   "pygments_lexer": "ipython3",
   "version": "3.13.5"
  }
 },
 "nbformat": 4,
 "nbformat_minor": 5
}
