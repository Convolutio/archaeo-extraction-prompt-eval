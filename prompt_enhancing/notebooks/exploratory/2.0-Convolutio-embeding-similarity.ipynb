{
 "cells": [
  {
   "cell_type": "markdown",
   "id": "0",
   "metadata": {},
   "source": [
    "# Chunk-Query similarity with Embedding model"
   ]
  },
  {
   "cell_type": "code",
   "execution_count": null,
   "id": "1",
   "metadata": {},
   "outputs": [],
   "source": [
    "import dspy\n",
    "import nest_asyncio\n",
    "import numpy as np\n",
    "from sklearn.metrics.pairwise import cosine_similarity\n",
    "\n",
    "from archaeo_super_prompt.env import getenv_or_throw\n",
    "# from archaeo_super_prompt.models.similarity import embed"
   ]
  },
  {
   "cell_type": "code",
   "execution_count": null,
   "id": "2",
   "metadata": {},
   "outputs": [],
   "source": [
    "# call this in the notebook to allow in the asyncio.run call in the dspy.Embedder\n",
    "# sync forward\n",
    "nest_asyncio.apply()\n",
    "\n",
    "ollama_localhost_port = getenv_or_throw(\"LOCAL_LLM_PORT\")\n",
    "\n",
    "# TOOD: set this as a transformer parametre\n",
    "embedder = dspy.Embedder(\n",
    "    \"ollama/nomic-embed-text\",\n",
    "    api_base=f\"http://localhost:{ollama_localhost_port}\",\n",
    "    api_key=\"\",\n",
    "    batch_size=100,\n",
    ")\n",
    "\n",
    "\n",
    "def embed_sync(text: str):\n",
    "    \"\"\"Return an embedding vector of shape (1, T), with T a constant embedding\n",
    "    size depending on the model\n",
    "    \"\"\"\n",
    "    return embedder([text])\n",
    "\n",
    "\n",
    "query_embeddings = embed_sync(\"L'istituzione è una descrizione del luogo con \\\n",
    "informazioni utili, non amministrative, per gli archeologi per comprendere \\\n",
    "meglio le caratteristiche del luogo per l'intervento.\")\n",
    "chunk1_embeddings = embed_sync(\"Piazza Marco Vitteli, Pisa\")\n",
    "chunk2_embeddings = embed_sync(\"Villa vecchia con due piani\")"
   ]
  },
  {
   "cell_type": "code",
   "execution_count": null,
   "id": "3",
   "metadata": {},
   "outputs": [],
   "source": [
    "print(query_embeddings.shape, chunk1_embeddings.shape, chunk2_embeddings.shape)"
   ]
  },
  {
   "cell_type": "code",
   "execution_count": null,
   "id": "4",
   "metadata": {},
   "outputs": [],
   "source": [
    "def get_similarities(chunk_embeddings: np.ndarray,\n",
    "                     query_embeddings: np.ndarray):\n",
    "    \"\"\"\n",
    "    Chunks : (N, T)\n",
    "    Query: (1, T)\n",
    "\n",
    "    Return: (N, 1)\n",
    "    \"\"\"\n",
    "    return cosine_similarity(chunk_embeddings, query_embeddings)\n",
    "\n",
    "\n",
    "similarities = get_similarities(np.concatenate((chunk1_embeddings,\n",
    "                                                chunk2_embeddings)),\n",
    "                                query_embeddings)"
   ]
  },
  {
   "cell_type": "code",
   "execution_count": null,
   "id": "5",
   "metadata": {},
   "outputs": [],
   "source": [
    "similarities"
   ]
  }
 ],
 "metadata": {
  "kernelspec": {
   "display_name": "Poetry",
   "language": "python",
   "name": "poetry-kernel"
  },
  "language_info": {
   "codemirror_mode": {
    "name": "ipython",
    "version": 3
   },
   "file_extension": ".py",
   "mimetype": "text/x-python",
   "name": "python",
   "nbconvert_exporter": "python",
   "pygments_lexer": "ipython3",
   "version": "3.13.5"
  }
 },
 "nbformat": 4,
 "nbformat_minor": 5
}
