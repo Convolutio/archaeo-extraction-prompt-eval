{
 "cells": [
  {
   "cell_type": "markdown",
   "id": "0",
   "metadata": {},
   "source": [
    "# Chunk pre-selection with Named-Entity matching\n",
    "\n",
    "For some fields with a know thesaurus set, the values are directly occuring in the document. Then, to infer the class of those fields, we figure out with Named-Entity-Extraction (NER) model if their thesaurus are present and in which text chunks.\n",
    "\n",
    "At the end of this pre-selection, the following information are providable to data extraction model :\n",
    "- the $k$ more relevant chunks with the presence of some thesaurus of the field\n",
    "- the thesaurus values already identified\n",
    "\n",
    "The LLM data extraction model can then just read the few chunks and output the more likely thesaurus among the provided ones through a simple ChainOfThought"
   ]
  },
  {
   "cell_type": "markdown",
   "id": "1",
   "metadata": {},
   "source": [
    "## Sample ingestion"
   ]
  },
  {
   "cell_type": "code",
   "execution_count": null,
   "id": "2",
   "metadata": {},
   "outputs": [],
   "source": []
  }
 ],
 "metadata": {
  "kernelspec": {
   "display_name": "Poetry",
   "language": "python",
   "name": "poetry-kernel"
  },
  "language_info": {
   "codemirror_mode": {
    "name": "ipython",
    "version": 3
   },
   "file_extension": ".py",
   "mimetype": "text/x-python",
   "name": "python",
   "nbconvert_exporter": "python",
   "pygments_lexer": "ipython3",
   "version": "3.13.5"
  }
 },
 "nbformat": 4,
 "nbformat_minor": 5
}
