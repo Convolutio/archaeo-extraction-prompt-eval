{
 "cells": [
  {
   "cell_type": "code",
   "execution_count": null,
   "id": "0",
   "metadata": {},
   "outputs": [],
   "source": [
    "import logging\n",
    "\n",
    "from docling.datamodel.base_models import InputFormat\n",
    "from docling.datamodel.pipeline_options import (\n",
    "    VlmPipelineOptions,\n",
    ")\n",
    "from docling.datamodel.pipeline_options_vlm_model import ApiVlmOptions, ResponseFormat\n",
    "from docling.document_converter import DocumentConverter, PdfFormatOption\n",
    "from docling.pipeline.vlm_pipeline import VlmPipeline\n",
    "\n",
    "from archaeo_super_prompt.dataset.load import MagohDataset"
   ]
  },
  {
   "cell_type": "markdown",
   "id": "1",
   "metadata": {},
   "source": [
    "# 🦆📃 PDF complete ingestion with Docling preprocessing\n",
    "\n",
    "We try the young framework Docling and its usage of VLLM on the HuggingFace repositories to achieve thoses tasks:\n",
    "\n",
    "- document OCR with Italian language analysis (VLLM)\n",
    "- document chunking with these features:\n",
    "    - layout-aware\n",
    "    - smart tokenization\n",
    "\n",
    "All of these things are possible with incorporating several open ML models into the Docling pipeline"
   ]
  },
  {
   "cell_type": "code",
   "execution_count": null,
   "id": "2",
   "metadata": {},
   "outputs": [],
   "source": [
    "MAX_SAMPLES_FETCHED = 300\n",
    "SEED = 0.5\n",
    "\n",
    "dataset = MagohDataset(MAX_SAMPLES_FETCHED, SEED, True)\n",
    "_selected_ids = [\n",
    "    31070\n",
    "]\n",
    "selected_ids = set(_selected_ids)\n",
    "inputs = dataset.get_files_for_batch(selected_ids)"
   ]
  },
  {
   "cell_type": "code",
   "execution_count": null,
   "id": "3",
   "metadata": {},
   "outputs": [],
   "source": [
    "inputs[\"filepath\"].tolist()[0]"
   ]
  },
  {
   "cell_type": "code",
   "execution_count": null,
   "id": "4",
   "metadata": {},
   "outputs": [],
   "source": [
    "def ollama_vlm_options(model: str, prompt: str):\n",
    "    options = ApiVlmOptions(\n",
    "        url=\"http://localhost:11434/v1/chat/completions\",  # the default Ollama endpoint\n",
    "        params=dict(\n",
    "            model=model,\n",
    "        ),\n",
    "        prompt=prompt,\n",
    "        timeout=90,\n",
    "        scale=1.0,\n",
    "        response_format=ResponseFormat.MARKDOWN,\n",
    "    )\n",
    "    return options"
   ]
  },
  {
   "cell_type": "code",
   "execution_count": null,
   "id": "5",
   "metadata": {},
   "outputs": [],
   "source": [
    "def main():\n",
    "    logging.basicConfig(level=logging.DEBUG)\n",
    "\n",
    "    input_doc_path = str(inputs[\"filepath\"].tolist()[0])\n",
    "\n",
    "    pipeline_options = VlmPipelineOptions(\n",
    "        enable_remote_services=True  # <-- this is required!\n",
    "    )\n",
    "\n",
    "    # The ApiVlmOptions() allows to interface with APIs supporting\n",
    "    # the multi-modal chat interface. Here follow a few example on how to configure those.\n",
    "\n",
    "    # One possibility is self-hosting model, e.g. via LM Studio, Ollama or others.\n",
    "\n",
    "    # Example using the Granite Vision model with Ollama:\n",
    "    # (uncomment the following lines)\n",
    "    pipeline_options.vlm_options = ollama_vlm_options(\n",
    "        model=\"granite3.2-vision:latest\",\n",
    "        prompt=\"OCR the full page to markdown.\",\n",
    "    )\n",
    "\n",
    "    # Create the DocumentConverter and launch the conversion.\n",
    "    doc_converter = DocumentConverter(\n",
    "        format_options={\n",
    "            InputFormat.PDF: PdfFormatOption(\n",
    "                pipeline_options=pipeline_options,\n",
    "                pipeline_cls=VlmPipeline,\n",
    "            )\n",
    "        }\n",
    "    )\n",
    "    result = doc_converter.convert(input_doc_path)\n",
    "    print(result.document.export_to_markdown())\n",
    "    return result"
   ]
  },
  {
   "cell_type": "code",
   "execution_count": null,
   "id": "6",
   "metadata": {},
   "outputs": [],
   "source": [
    "result = main()"
   ]
  },
  {
   "cell_type": "code",
   "execution_count": null,
   "id": "7",
   "metadata": {},
   "outputs": [],
   "source": [
    "from IPython.display import Markdown\n",
    "Markdown(result.document.export_to_markdown())"
   ]
  }
 ],
 "metadata": {
  "kernelspec": {
   "display_name": "Poetry",
   "language": "python",
   "name": "poetry-kernel"
  },
  "language_info": {
   "codemirror_mode": {
    "name": "ipython",
    "version": 3
   },
   "file_extension": ".py",
   "mimetype": "text/x-python",
   "name": "python",
   "nbconvert_exporter": "python",
   "pygments_lexer": "ipython3",
   "version": "3.13.5"
  }
 },
 "nbformat": 4,
 "nbformat_minor": 5
}
