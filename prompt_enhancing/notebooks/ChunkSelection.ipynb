{
 "cells": [
  {
   "cell_type": "markdown",
   "id": "0",
   "metadata": {},
   "source": [
    "# Chunk selection"
   ]
  },
  {
   "cell_type": "code",
   "execution_count": null,
   "id": "1",
   "metadata": {},
   "outputs": [],
   "source": [
    "from pathlib import Path\n",
    "\n",
    "from archaeo_super_prompt.dataset.load import MagohDataset\n",
    "from archaeo_super_prompt.types.pdfpaths import buildPdfPathDataset\n",
    "\n",
    "ds = MagohDataset(200, 0.8, True)\n",
    "selected_ids = {\n",
    "31049, 30913\n",
    "}\n",
    "\n",
    "selected_files = [\n",
    "    (31049, Path(\".cache/pdfs/31049/Relazione_storica_Pasquinucci.pdf\").resolve()),\n",
    "    (30913, Path(\".cache/pdfs/30913/Relazione_assistenza.pdf\").resolve()),\n",
    "]"
   ]
  },
  {
   "cell_type": "code",
   "execution_count": null,
   "id": "2",
   "metadata": {},
   "outputs": [],
   "source": [
    "from feature_engine.pipeline import Pipeline\n",
    "from archaeo_super_prompt.pdf_to_text import OCR_Transformer, TextExtractor\n",
    "from archaeo_super_prompt.main_transformer import MagohDataExtractor\n",
    "\n",
    "import mlflow\n",
    "\n",
    "pipeline = Pipeline(\n",
    "    [\n",
    "        (\"ocr\", OCR_Transformer),\n",
    "        (\"pdf_reader\", TextExtractor),\n",
    "    ]\n",
    "\n",
    ")\n",
    "inputs = buildPdfPathDataset(selected_files)\n",
    "outputs = pipeline.transform(inputs)"
   ]
  },
  {
   "cell_type": "code",
   "execution_count": null,
   "id": "3",
   "metadata": {},
   "outputs": [],
   "source": [
    "outputs"
   ]
  },
  {
   "cell_type": "code",
   "execution_count": null,
   "id": "4",
   "metadata": {},
   "outputs": [],
   "source": [
    "import math\n",
    "from archaeo_super_prompt.types.pdfchunks import PDFChunkPerInterventionDataset\n",
    "from archaeo_super_prompt.models.chunk_selector import select_incipit, select_end_pages\n",
    "\n",
    "incipits = [select_incipit(PDFChunkPerInterventionDataset(chunksPerIntervention)) for  _, chunksPerIntervention in outputs.groupby(\"id\")]\n",
    "end_pages = [select_end_pages(PDFChunkPerInterventionDataset(chunksPerIntervention)) for  _, chunksPerIntervention in outputs.groupby(\"id\")]"
   ]
  },
  {
   "cell_type": "code",
   "execution_count": null,
   "id": "5",
   "metadata": {},
   "outputs": [],
   "source": [
    "from IPython.display import Markdown\n",
    "Markdown(str(end_pages[1]))"
   ]
  },
  {
   "cell_type": "code",
   "execution_count": null,
   "id": "6",
   "metadata": {},
   "outputs": [],
   "source": []
  }
 ],
 "metadata": {
  "kernelspec": {
   "display_name": "Poetry",
   "language": "python",
   "name": "poetry-kernel"
  },
  "language_info": {
   "codemirror_mode": {
    "name": "ipython",
    "version": 3
   },
   "file_extension": ".py",
   "mimetype": "text/x-python",
   "name": "python",
   "nbconvert_exporter": "python",
   "pygments_lexer": "ipython3",
   "version": "3.13.5"
  }
 },
 "nbformat": 4,
 "nbformat_minor": 5
}
