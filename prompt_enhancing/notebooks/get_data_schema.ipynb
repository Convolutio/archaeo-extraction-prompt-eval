{
 "cells": [
  {
   "cell_type": "code",
   "execution_count": null,
   "id": "0",
   "metadata": {},
   "outputs": [],
   "source": [
    "import pandera.pandas as pa\n",
    "\n",
    "from archaeo_super_prompt.dataset.load import MagohDataset\n",
    "\n",
    "ds = MagohDataset(200, 0.8, True)"
   ]
  },
  {
   "cell_type": "code",
   "execution_count": null,
   "id": "1",
   "metadata": {},
   "outputs": [],
   "source": [
    "ds.intervention_data[\"university.Numero di saggi\"] = ds.intervention_data[\"university.Numero di saggi\"].astype('UInt32')"
   ]
  },
  {
   "cell_type": "code",
   "execution_count": null,
   "id": "2",
   "metadata": {},
   "outputs": [],
   "source": [
    "ds.intervention_data[\"university.Geologico\"] = ds.intervention_data[\"university.Geologico\"].astype('boolean')"
   ]
  },
  {
   "cell_type": "code",
   "execution_count": null,
   "id": "3",
   "metadata": {},
   "outputs": [],
   "source": [
    "for i, k in enumerate(ds.intervention_data.keys()):\n",
    "    print(k, end=\"\\t\")\n",
    "    if (-1)%3 == i%3:\n",
    "        print()\n",
    "filtered_df = ds.intervention_data.filter(\n",
    "    regex=\"^(scheda_intervento.id|(university|building|check).*)\"\n",
    ")\n",
    "filtered_df.keys()"
   ]
  },
  {
   "cell_type": "code",
   "execution_count": null,
   "id": "4",
   "metadata": {},
   "outputs": [],
   "source": [
    "print(pa.infer_schema(filtered_df))"
   ]
  },
  {
   "cell_type": "code",
   "execution_count": null,
   "id": "5",
   "metadata": {},
   "outputs": [],
   "source": [
    "def negativeFloatColumn():\n",
    "    return pa.Column(float, pa.Check.lt(0.000001), nullable=True)\n",
    "\n",
    "\n",
    "schema = pa.DataFrameSchema(\n",
    "    {\n",
    "        'scheda_intervento.id': pa.Column(int),\n",
    "        'university.Sigla': pa.Column(str, nullable=True),\n",
    "        'university.Comune': pa.Column(str, nullable=True),\n",
    "        'university.Ubicazione': pa.Column(str, nullable=True),\n",
    "        'university.Indirizzo': pa.Column(str, nullable=True),\n",
    "        'university.Località': pa.Column(str, nullable=True),\n",
    "        'university.Data intervento': pa.Column(str, nullable=True),\n",
    "        'university.Tipo di intervento': pa.Column(str, nullable=True),\n",
    "        'university.Durata': pa.Column(str, nullable=True),\n",
    "        'university.Eseguito da': pa.Column(str, nullable=True),\n",
    "        'university.Direzione scientifica': pa.Column(str, nullable=True),\n",
    "        'university.Estensione': pa.Column(str, nullable=True),\n",
    "        'university.Numero di saggi': pa.Column('UInt32', nullable=True),\n",
    "        'university.Profondità massima': negativeFloatColumn(),\n",
    "        'university.Geologico': pa.Column('boolean', nullable=True),\n",
    "        'university.OGD': pa.Column(str, nullable=True),\n",
    "        'university.OGM': pa.Column(str, nullable=True),\n",
    "        'university.Profondità falda': negativeFloatColumn(),\n",
    "        'check.Preistoria': pa.Column(bool),\n",
    "        'check.Età Protostorica': pa.Column(bool),\n",
    "        'check.Età Etrusca': pa.Column(bool),\n",
    "        'check.Età Romana': pa.Column(bool),\n",
    "        'check.Età Tardoantica': pa.Column(bool),\n",
    "        'check.Alto Medioevo': pa.Column(bool),\n",
    "        'check.Basso Medioevo': pa.Column(bool),\n",
    "        'check.Età Moderna': pa.Column(bool),\n",
    "        'check.Età Contemporanea': pa.Column(bool),\n",
    "        'check.Non identificati': pa.Column(bool),\n",
    "        'building.Istituzione': pa.Column(str, nullable=True),\n",
    "        'building.Funzionario competente': pa.Column(str, nullable=True),\n",
    "        'building.Tipo di documento': pa.Column(str, nullable=True),\n",
    "        'building.Protocollo': pa.Column(str, nullable=True),\n",
    "        'building.Data Protocollo': pa.Column(str, nullable=True)\n",
    "    })\n",
    "validated_ds = schema.validate(filtered_df)"
   ]
  },
  {
   "cell_type": "code",
   "execution_count": null,
   "id": "6",
   "metadata": {},
   "outputs": [],
   "source": [
    "validated_ds"
   ]
  },
  {
   "cell_type": "code",
   "execution_count": null,
   "id": "7",
   "metadata": {},
   "outputs": [],
   "source": [
    "serie = pa.SeriesSchema({\n",
    "    pa.SeriesSchema(\n",
    "        {\n",
    "        \"scheda_intervento.id\": pa.Column(int),\n",
    "        \"university.Sigla\": pa.Column(str, nullable=True),\n",
    "        \"university.Comune\": pa.Column(str, nullable=True),\n",
    "        \"university.Ubicazione\": pa.Column(str, nullable=True),\n",
    "        \"university.Indirizzo\": pa.Column(str, nullable=True),\n",
    "        \"university.Località\": pa.Column(str, nullable=True),\n",
    "        \"university.Data intervento\": pa.Column(str, nullable=True),\n",
    "        \"university.Tipo di intervento\": pa.Column(str, nullable=True),\n",
    "        \"university.Durata\": pa.Column(str, nullable=True),\n",
    "        \"university.Eseguito da\": pa.Column(str, nullable=True),\n",
    "        \"university.Direzione scientifica\": pa.Column(str, nullable=True),\n",
    "        \"university.Estensione\": pa.Column(str, nullable=True),\n",
    "        \"university.Numero di saggi\": pa.Column('UInt32', pa.Check.ge(0), nullable=True),\n",
    "        \"university.Profondità massima\": _negativeFloatColumn(),\n",
    "        \"university.Geologico\": pa.Column(\"boolean\", nullable=True),\n",
    "        \"university.OGD\": pa.Column(str, nullable=True),\n",
    "        \"university.OGM\": pa.Column(str, nullable=True),\n",
    "        \"university.Profondità falda\": _negativeFloatColumn(),\n",
    "        \"check.Preistoria\": pa.Column(bool),\n",
    "        \"check.Età Protostorica\": pa.Column(bool),\n",
    "        \"check.Età Etrusca\": pa.Column(bool),\n",
    "        \"check.Età Romana\": pa.Column(bool),\n",
    "        \"check.Età Tardoantica\": pa.Column(bool),\n",
    "        \"check.Alto Medioevo\": pa.Column(bool),\n",
    "        \"check.Basso Medioevo\": pa.Column(bool),\n",
    "        \"check.Età Moderna\": pa.Column(bool),\n",
    "        \"check.Età Contemporanea\": pa.Column(bool),\n",
    "        \"check.Non identificati\": pa.Column(bool),\n",
    "        \"building.Istituzione\": pa.Column(str, nullable=True),\n",
    "        \"building.Funzionario competente\": pa.Column(str, nullable=True),\n",
    "        \"building.Tipo di documento\": pa.Column(str, nullable=True),\n",
    "        \"building.Protocollo\": pa.Column(str, nullable=True),\n",
    "        \"building.Data Protocollo\": pa.Column(str, nullable=True),\n",
    "    }\n",
    "\n",
    "    nullable=False,\n",
    "    unique=False,\n",
    "    name=\"my_series\")\n",
    "})"
   ]
  }
 ],
 "metadata": {
  "kernelspec": {
   "display_name": "Poetry",
   "language": "python",
   "name": "poetry-kernel"
  },
  "language_info": {
   "codemirror_mode": {
    "name": "ipython",
    "version": 3
   },
   "file_extension": ".py",
   "mimetype": "text/x-python",
   "name": "python",
   "nbconvert_exporter": "python",
   "pygments_lexer": "ipython3",
   "version": "3.13.5"
  }
 },
 "nbformat": 4,
 "nbformat_minor": 5
}
