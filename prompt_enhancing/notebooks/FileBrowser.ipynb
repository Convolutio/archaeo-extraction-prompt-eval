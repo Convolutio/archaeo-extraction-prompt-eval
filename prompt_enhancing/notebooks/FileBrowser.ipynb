{
 "cells": [
  {
   "cell_type": "code",
   "execution_count": null,
   "id": "0",
   "metadata": {},
   "outputs": [],
   "source": [
    "from pathlib import Path\n",
    "\n",
    "from archaeo_super_prompt.cache import get_cache_subdir"
   ]
  },
  {
   "cell_type": "code",
   "execution_count": null,
   "id": "1",
   "metadata": {},
   "outputs": [],
   "source": [
    "STATIC_DIR = get_cache_subdir(\"ocr-pdfs\")\n",
    "files_dirs = {dirp.name: [str((Path(\"/\") / p.parent.name) / p.name) for p in dirp.iterdir()]\n",
    "              for dirp in STATIC_DIR.iterdir()}\n",
    "files_dirs"
   ]
  },
  {
   "cell_type": "code",
   "execution_count": null,
   "id": "2",
   "metadata": {},
   "outputs": [],
   "source": [
    "from dash import Dash\n",
    "from archaeo_super_prompt.visualization.file_explorer import add_file_explorer\n",
    "\n",
    "app = Dash()\n",
    "explorerLayoutChildren, callback_init = add_file_explorer()\n",
    "app.layout = explorerLayoutChildren\n",
    "callback_init(app)\n",
    "app.run(port=\"8886\")"
   ]
  },
  {
   "cell_type": "code",
   "execution_count": null,
   "id": "3",
   "metadata": {},
   "outputs": [],
   "source": [
    "help(dcc.Dropdown)"
   ]
  }
 ],
 "metadata": {
  "kernelspec": {
   "display_name": "Poetry",
   "language": "python",
   "name": "poetry-kernel"
  },
  "language_info": {
   "codemirror_mode": {
    "name": "ipython",
    "version": 3
   },
   "file_extension": ".py",
   "mimetype": "text/x-python",
   "name": "python",
   "nbconvert_exporter": "python",
   "pygments_lexer": "ipython3",
   "version": "3.13.5"
  }
 },
 "nbformat": 4,
 "nbformat_minor": 5
}
